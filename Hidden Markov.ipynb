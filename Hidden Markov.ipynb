{
 "cells": [
  {
   "cell_type": "code",
   "execution_count": null,
   "metadata": {},
   "outputs": [],
   "source": [
    "# Predict next day temp\n",
    "\n",
    "'''\n",
    "### RULES ###\n",
    "1. Cold = 0 -- Hot = 1\n",
    "2. First day 80% hot \n",
    "3. Cold has 30% of being followed by hot\n",
    "4. Hot has 20% of being followed by cold \n",
    "5. Cold SD 0 and 5 -- Hot SD 15 and 10\n",
    "'''"
   ]
  },
  {
   "cell_type": "code",
   "execution_count": null,
   "metadata": {},
   "outputs": [],
   "source": [
    "import tensorflow_probability as tfp \n",
    "import tensorflow as tf "
   ]
  },
  {
   "cell_type": "code",
   "execution_count": null,
   "metadata": {},
   "outputs": [],
   "source": [
    "# Define Distriutions \n",
    "tfd = tfp.distributions # Shortcut for later\n",
    "initial_distribution = tfd.Categorical(probs = [0.8, 0.2]) # Rule 2 \n",
    "transition_distribution = tfd.Categorical(probs = [[0.7, 0.3], [0.2, 0.8]]) # Rules 3 & 4\n",
    "observation_distribution = tfd.Normal(loc = [0., 15.], scale = [5., 10.]) # Rule 5\n",
    "                                    # loc is mean    # Scale is standard deviation"
   ]
  },
  {
   "cell_type": "code",
   "execution_count": null,
   "metadata": {},
   "outputs": [],
   "source": [
    "# Define Model \n",
    "model = tfd.HiddenMarkovModel(\n",
    "    initial_distribution = initial_distribution,\n",
    "    transition_distribution = transition_distribution,\n",
    "    observation_distribution = observation_distribution,\n",
    "    num_steps = 7\n",
    ")"
   ]
  },
  {
   "cell_type": "code",
   "execution_count": null,
   "metadata": {},
   "outputs": [],
   "source": [
    "# Run Model \n",
    "mean = model.mean()\n",
    "with tf.compat.v1.Session() as sess:\n",
    "    print(mean.numpy())"
   ]
  }
 ],
 "metadata": {
  "language_info": {
   "name": "python"
  },
  "orig_nbformat": 4
 },
 "nbformat": 4,
 "nbformat_minor": 2
}
